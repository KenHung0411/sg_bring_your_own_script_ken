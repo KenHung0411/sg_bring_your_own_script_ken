{
 "cells": [
  {
   "cell_type": "code",
   "execution_count": 25,
   "metadata": {},
   "outputs": [],
   "source": [
    "import pandas as pd\n",
    "import numpy as np\n",
    "import os\n",
    "import joblib\n",
    "from sagemaker.sklearn.estimator import SKLearn"
   ]
  },
  {
   "cell_type": "code",
   "execution_count": 15,
   "metadata": {},
   "outputs": [],
   "source": [
    "cur_path = os.getcwd()\n",
    "training_data_path = os.path.join(cur_path, 'input_data')\n",
    "training_files = os.listdir(training_data_path)\n",
    "file = os.path.join(training_data_path, training_files[0])"
   ]
  },
  {
   "cell_type": "code",
   "execution_count": 14,
   "metadata": {},
   "outputs": [
    {
     "data": {
      "text/plain": [
       "'/Users/kenhung/Google Drive/Booking_pridiction_liner/dynamic_pricing/bring_your_own_script/input_data/greenx_container_booking_raw.csv'"
      ]
     },
     "execution_count": 14,
     "metadata": {},
     "output_type": "execute_result"
    }
   ],
   "source": [
    "file"
   ]
  },
  {
   "cell_type": "markdown",
   "metadata": {},
   "source": [
    "## Prepare sagemaker session"
   ]
  },
  {
   "cell_type": "code",
   "execution_count": null,
   "metadata": {},
   "outputs": [],
   "source": [
    "import sagemaker\n",
    "from sagemaker import get_execution_role\n",
    "import boto3\n",
    "\n",
    "sagemaker_session = sagemaker.Session()\n",
    "\n",
    "# Get a SageMaker-compatible role used by this Notebook Instance.\n",
    "role = get_execution_role()"
   ]
  },
  {
   "cell_type": "markdown",
   "metadata": {},
   "source": [
    "## Upload the data for training"
   ]
  },
  {
   "cell_type": "code",
   "execution_count": 17,
   "metadata": {},
   "outputs": [],
   "source": [
    "import boto3"
   ]
  },
  {
   "cell_type": "code",
   "execution_count": 18,
   "metadata": {},
   "outputs": [],
   "source": [
    "s3_bucket = 'bluex-booking-pridict'\n",
    "s3_prefix = 'train_data'"
   ]
  },
  {
   "cell_type": "code",
   "execution_count": 19,
   "metadata": {},
   "outputs": [
    {
     "data": {
      "text/plain": [
       "'train_data'"
      ]
     },
     "execution_count": 19,
     "metadata": {},
     "output_type": "execute_result"
    }
   ],
   "source": [
    "s3_prefix"
   ]
  },
  {
   "cell_type": "code",
   "execution_count": 23,
   "metadata": {},
   "outputs": [],
   "source": [
    "boto3.Session().resource('s3').Bucket(s3_bucket).Object(os.path.join(s3_prefix,'training.csv')) \\\n",
    "                                .upload_file(file)"
   ]
  },
  {
   "cell_type": "markdown",
   "metadata": {},
   "source": [
    "## Create SageMaker Scikit Estimator \n",
    "To run our Scikit-learn training script on SageMaker, we construct a sagemaker.sklearn.estimator.sklearn estimator, which accepts several constructor arguments:\n",
    "\n",
    "entry_point: The path to the Python script SageMaker runs for training and prediction.\n",
    "role: Role ARN\n",
    "\n",
    "train_instance_type (optional): The type of SageMaker instances for training. Note: Because Scikit-learn does not natively support GPU training, Sagemaker Scikit-learn does not currently support training on GPU instance types.\n",
    "\n",
    "sagemaker_session (optional): The session used to train on Sagemaker.\n",
    "\n",
    "hyperparameters (optional): A dictionary passed to the train function as hyperparameters."
   ]
  },
  {
   "cell_type": "code",
   "execution_count": null,
   "metadata": {},
   "outputs": [],
   "source": [
    "from sagemaker.sklearn.estimator import SKLearn\n",
    "\n",
    "FRAMEWORK_VERSION = \"0.23-1\"\n",
    "script_path = 'train.py'\n",
    "s3_training_data = \"s3://bluex-booking-pridict/train_data/training.csv\"\n",
    "\n",
    "\n",
    "sklearn = SKLearn(\n",
    "    entry_point= script_path,\n",
    "    framework_version=FRAMEWORK_VERSION,\n",
    "    py_version='py3', \n",
    "    train_instance_type=\"ml.c4.xlarge\",\n",
    "    role=role,\n",
    "    base_job_name=\"Kneighbor-regression_byo\",\n",
    "    sagemaker_session=sagemaker_session,\n",
    "    hyperparameters={'n_neighborsint': 5}\n",
    ")\n",
    "\n",
    "inputs = {'training': s3_train_data}\n",
    "sklearn.fit(inputs=inputs,  wait=False)"
   ]
  },
  {
   "cell_type": "code",
   "execution_count": null,
   "metadata": {},
   "outputs": [],
   "source": [
    "job_name = sklearn.latest_training_job.name\n",
    "job_name"
   ]
  },
  {
   "cell_type": "code",
   "execution_count": null,
   "metadata": {},
   "outputs": [],
   "source": [
    "import time\n",
    "sm = boto3.client('sagemaker')\n",
    "\n",
    "result = 1\n",
    "while result is not 0:\n",
    "    result = 0    \n",
    "    respones = sm.describe_training_job(TrainingJobName=job_name)['TrainingJobStatus']\n",
    "    print(\"job status:{}\".format(respones))\n",
    "    status = 0 if respones == 'Completed' else 1\n",
    "    result = result + status\n",
    "    time.sleep(20)\n",
    "print('all job completed')"
   ]
  },
  {
   "cell_type": "markdown",
   "metadata": {},
   "source": [
    "## Deploy your training model"
   ]
  },
  {
   "cell_type": "code",
   "execution_count": null,
   "metadata": {},
   "outputs": [],
   "source": [
    "sklearn.name = 'Kneighbor-regression_byo'\n",
    "my_predictor = sklearn.deploy(initial_instance_count = 1, instance_type = deploy_instance_type, wait=False)"
   ]
  },
  {
   "cell_type": "code",
   "execution_count": null,
   "metadata": {},
   "outputs": [],
   "source": [
    "endpoint_name = my_predictor.endpoint\n",
    "endpoint_name"
   ]
  },
  {
   "cell_type": "code",
   "execution_count": null,
   "metadata": {},
   "outputs": [],
   "source": [
    "# check endpoint status\n",
    "result = 1\n",
    "while result is not 0:\n",
    "    result = 0\n",
    "    respones = sm.describe_endpoint(EndpointName=endpoint_name)['EndpointStatus']\n",
    "    print(\"job status:{}\".format(respones))\n",
    "    status = 0 if respones == 'InService' else 1\n",
    "    result = result + status\n",
    "    time.sleep(20)\n",
    "print('all endpoints in service')"
   ]
  },
  {
   "cell_type": "code",
   "execution_count": null,
   "metadata": {},
   "outputs": [],
   "source": []
  },
  {
   "cell_type": "markdown",
   "metadata": {},
   "source": [
    "## Prediction on Test Dataset"
   ]
  },
  {
   "cell_type": "code",
   "execution_count": null,
   "metadata": {},
   "outputs": [],
   "source": [
    "from sagemaker.predictor import csv_serializer \n",
    "\n",
    "my_predictor.content_type = 'text/csv'\n",
    "my_predictor.serializer = csv_serializer\n",
    "my_predictor.deserializer = None"
   ]
  },
  {
   "cell_type": "code",
   "execution_count": 28,
   "metadata": {},
   "outputs": [],
   "source": [
    "# fbx_diff, d_quote_search_amount, conversion_rate, peak_season\n",
    "dummy_data = [\n",
    "    ['-190', '150', '95', '1'],\n",
    "    ['-190', '120', '90', '1'],\n",
    "    ['-190', '110', '80', '1'],\n",
    "    ['-190', '100', '70', '1'],\n",
    "    ['-500', '10', '30', '0']\n",
    "]\n",
    "\n",
    "dummy_df = pd.DataFrame(dummy_data)"
   ]
  },
  {
   "cell_type": "code",
   "execution_count": 30,
   "metadata": {},
   "outputs": [
    {
     "data": {
      "text/plain": [
       "array([['-190', '150', '95', '1'],\n",
       "       ['-190', '120', '90', '1'],\n",
       "       ['-190', '110', '80', '1'],\n",
       "       ['-190', '100', '70', '1'],\n",
       "       ['-500', '10', '30', '0']], dtype=object)"
      ]
     },
     "execution_count": 30,
     "metadata": {},
     "output_type": "execute_result"
    }
   ],
   "source": [
    "dummy_df.to_numpy()"
   ]
  },
  {
   "cell_type": "code",
   "execution_count": 27,
   "metadata": {},
   "outputs": [],
   "source": [
    "def predict(data):\n",
    "    split_array = np.array_split(data, int(data.shape[0] / float(rows) + 1))\n",
    "    predictions = []\n",
    "    for array in split_array:\n",
    "        x = my_predictor.predict(array).decode('utf-8')\n",
    "        x = json.loads(x)\n",
    "        x = np.array(x[\"predictions\"])\n",
    "        y = len(x)\n",
    "        predictions = np.append(predictions,x)\n",
    "    return predictions"
   ]
  },
  {
   "cell_type": "code",
   "execution_count": null,
   "metadata": {},
   "outputs": [],
   "source": [
    "result_out = predict(dummy_df.to_numpy())"
   ]
  },
  {
   "cell_type": "code",
   "execution_count": null,
   "metadata": {},
   "outputs": [],
   "source": [
    "result_out"
   ]
  },
  {
   "cell_type": "markdown",
   "metadata": {},
   "source": [
    "## Delete endpoints"
   ]
  },
  {
   "cell_type": "code",
   "execution_count": null,
   "metadata": {},
   "outputs": [],
   "source": [
    "import boto3\n",
    "sm = boto3.client('sagemaker')\n",
    "sm.delete_endpoint(EndpointName=endpoint_name)"
   ]
  },
  {
   "cell_type": "code",
   "execution_count": null,
   "metadata": {},
   "outputs": [],
   "source": []
  }
 ],
 "metadata": {
  "kernelspec": {
   "display_name": "Python 3",
   "language": "python",
   "name": "python3"
  },
  "language_info": {
   "codemirror_mode": {
    "name": "ipython",
    "version": 3
   },
   "file_extension": ".py",
   "mimetype": "text/x-python",
   "name": "python",
   "nbconvert_exporter": "python",
   "pygments_lexer": "ipython3",
   "version": "3.7.3"
  }
 },
 "nbformat": 4,
 "nbformat_minor": 2
}
